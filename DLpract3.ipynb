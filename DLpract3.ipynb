{
 "cells": [
  {
   "cell_type": "code",
   "execution_count": 2,
   "id": "114d7162",
   "metadata": {
    "colab": {
     "base_uri": "https://localhost:8080/",
     "height": 70
    },
    "id": "85659fed",
    "outputId": "97401c61-5e08-48b7-d0ae-aa19ace13301"
   },
   "outputs": [
    {
     "data": {
      "text/plain": [
       "\"Build the Image classification model by dividing the model into following 4 stages:\\n1.Loading and preprocessing the image data\\n2.Defining the model's architecture\\n3.Training the model\\n4.Estimating the model's performance\""
      ]
     },
     "execution_count": 2,
     "metadata": {},
     "output_type": "execute_result"
    }
   ],
   "source": [
    "'''Build the Image classification model by dividing the model into following 4 stages:\n",
    "1.Loading and preprocessing the image data\n",
    "2.Defining the model's architecture\n",
    "3.Training the model\n",
    "4.Estimating the model's performance'''"
   ]
  },
  {
   "cell_type": "code",
   "execution_count": null,
   "id": "353ae272",
   "metadata": {
    "id": "e3724054"
   },
   "outputs": [],
   "source": [
    "import numpy as np\n",
    "import pandas as pd\n",
    "import random\n",
    "import tensorflow as tf\n",
    "import matplotlib.pyplot as plt\n",
    "from sklearn.model_selection import train_test_split #For splitting datasets into training and testing sets.\n",
    "from sklearn.metrics import accuracy_score\n",
    "from tensorflow.keras.models import Sequential # A sequential neural network model.\n",
    "from tensorflow.keras.layers import Flatten, Conv2D,Dense,MaxPooling2D #Includes different types of layers for neural networks like convolutional and dense (fully connected) layers.\n",
    "from tensorflow.keras.optimizers import SGD #Optimizer that uses Stochastic Gradient Descent.\n",
    "from tensorflow.keras.utils import to_categorical\n",
    "from tensorflow.keras.datasets import mnist #Provides the MNIST dataset of handwritten digits.\n",
    "\n"
   ]
  },
  {
   "cell_type": "code",
   "execution_count": null,
   "id": "7256c7f6",
   "metadata": {
    "id": "hgPgdQPCIxea"
   },
   "outputs": [],
   "source": [
    "# Load the MNIST dataset loads the MNIST dataset, a common dataset of 28x28 pixel grayscale images of handwritten digits (0–9).\n",
    "# X holds the images, and y holds the labels (the digit shown in each image)\n",
    "(images, labels), _ = mnist.load_data()\n",
    "\n",
    "X = images\n",
    "y = labels"
   ]
  },
  {
   "cell_type": "code",
   "execution_count": 5,
   "id": "c771f74d",
   "metadata": {
    "id": "7ccf0468"
   },
   "outputs": [],
   "source": [
    "# Loading and preprocessing the image data\n",
    "(X_train, y_train),(X_test, y_test) = mnist.load_data()"
   ]
  },
  {
   "cell_type": "code",
   "execution_count": 6,
   "id": "bc6e8c96",
   "metadata": {
    "colab": {
     "base_uri": "https://localhost:8080/"
    },
    "id": "676467b3",
    "outputId": "96943399-1aa7-403c-da73-28286f6a1ed3"
   },
   "outputs": [
    {
     "name": "stdout",
     "output_type": "stream",
     "text": [
      "(60000, 28, 28)\n"
     ]
    }
   ],
   "source": [
    "print(X_train.shape)"
   ]
  },
  {
   "cell_type": "code",
   "execution_count": 7,
   "id": "fd87acff",
   "metadata": {
    "colab": {
     "base_uri": "https://localhost:8080/"
    },
    "id": "809040b6",
    "outputId": "51c3088e-17ae-456c-ebbf-5d9ec7e10325"
   },
   "outputs": [
    {
     "data": {
      "text/plain": [
       "(0, 255)"
      ]
     },
     "execution_count": 7,
     "metadata": {},
     "output_type": "execute_result"
    }
   ],
   "source": [
    "X_train[0].min(),X_train[0].max()"
   ]
  },
  {
   "cell_type": "code",
   "execution_count": null,
   "id": "f2dfa04d",
   "metadata": {
    "colab": {
     "base_uri": "https://localhost:8080/"
    },
    "id": "bb9e4d89",
    "outputId": "faa76a2c-54af-4508-dd4d-74023cf51b6d"
   },
   "outputs": [
    {
     "data": {
      "text/plain": [
       "(0.0, 1.0)"
      ]
     },
     "execution_count": 8,
     "metadata": {},
     "output_type": "execute_result"
    }
   ],
   "source": [
    "#This normalizes the pixel values of images to a range between 0 and 1, which improves model training.\n",
    "X_train = (X_train - 0.0) / (255.0 - 0.0)\n",
    "X_test = (X_test - 0.0) / (255.0 - 0.0)\n",
    "X_train[0].min(), X_train[0].max()\n",
    "(0.0, 1.0)"
   ]
  },
  {
   "cell_type": "code",
   "execution_count": null,
   "id": "989787b6",
   "metadata": {
    "colab": {
     "base_uri": "https://localhost:8080/",
     "height": 591
    },
    "id": "f235651a",
    "outputId": "f9a39e92-38b6-416c-9969-dff2a3f778bb"
   },
   "outputs": [
    {
     "data": {
      "image/png": "[encoded data removed]",
      "text/plain": [
       "<Figure size 1152x720 with 20 Axes>"
      ]
     },
     "metadata": {},
     "output_type": "display_data"
    }
   ],
   "source": [
    "#This defines a function named plot_digit that accepts four parameters:\n",
    "#image: The image data to be plotted.\n",
    "#digit: The actual digit label of the image.\n",
    "#plt: Reference to the matplotlib.pyplot module, used for plotting.\n",
    "#i: The index for plotting in a grid layout.\n",
    "def plot_digit(image, digit, plt, i):\n",
    "    plt.subplot(4, 5, i + 1)\n",
    "    plt.imshow(image, cmap=plt.get_cmap('gray')) # argument ensures that the image is shown in a grayscale color map, where 0 (black) represents no brightness and 255 (white) represents full brightness.\n",
    "    plt.title(f\"Digit: {digit}\") #Adds a title above each image, showing the actual digit (label) for that image\n",
    "                                 #verify if the images are correctly labeled.\n",
    "    plt.xticks([])\n",
    "    plt.yticks([])\n",
    "#These remove the x and y axis tick marks for each subplot, which makes the display cleaner and emphasizes the images without distracting tick marks.    \n",
    "plt.figure(figsize=(16, 10 )) #Creates a new figure with a custom size of 16x10 inches.\n",
    "for i in range(20):            #Loops through the first 20 images in the training set\n",
    "    plot_digit(X_train[i], y_train[i], plt, i)\n",
    "#Calls the plot_digit function to plot each image along with its label in the specified grid position.    \n",
    "plt.show()"
   ]
  },
  {
   "cell_type": "code",
   "execution_count": null,
   "id": "3752acc4",
   "metadata": {
    "id": "4531ddaf"
   },
   "outputs": [],
   "source": [
    "X_tarin = X_train.reshape((X_train.shape+ (1,)))\n",
    "X_test = X_test.reshape((X_test.shape+(1,)))\n",
    "\n",
    "#ensures they meet the input requirements for convolutional layers.\n",
    "#reshapes the MNIST images from (28, 28) to (28, 28, 1), adding a third dimension for the single grayscale channel"
   ]
  },
  {
   "cell_type": "code",
   "execution_count": 11,
   "id": "d2063a36",
   "metadata": {
    "colab": {
     "base_uri": "https://localhost:8080/"
    },
    "id": "0348140d",
    "outputId": "a73cf22e-f387-433c-99cb-ad78e40e3809"
   },
   "outputs": [
    {
     "data": {
      "text/plain": [
       "array([5, 0, 4, 1, 9, 2, 1, 3, 1, 4, 3, 5, 3, 6, 1, 7, 2, 8, 6, 9],\n",
       "      dtype=uint8)"
      ]
     },
     "execution_count": 11,
     "metadata": {},
     "output_type": "execute_result"
    }
   ],
   "source": [
    "y_train[0:20]"
   ]
  },
  {
   "cell_type": "code",
   "execution_count": null,
   "id": "665fca0b",
   "metadata": {
    "colab": {
     "base_uri": "https://localhost:8080/"
    },
    "id": "fe739af8",
    "outputId": "e03a4911-bac1-4a90-f63d-4a0df7e03dab"
   },
   "outputs": [],
   "source": [
    "# Defining the model's architecture\n",
    "#Creates a sequential model, which is a simple way to stack layers linearly.\n",
    "model = Sequential([\n",
    "    Conv2D(32,(3,3), activation=\"relu\",input_shape=(28,28,1)), #Adds a convolutional layer\n",
    "    MaxPooling2D((2,2)), #Adds a pooling layer that downsample\n",
    "    Flatten(), #Flattens the 2D output from the previous layer into a 1D vector for the fully connected layers.\n",
    "    Dense(100,activation=\"relu\"), #Adds a fully connected layer with 100 neurons and ReLU activation. hiiden layer\n",
    "    Dense(10,activation=\"softmax\") # The output layer with 10 neurons (one for each digit class) and softmax activation, producing a probability distribution over the classes.\n",
    "])"
   ]
  },
  {
   "cell_type": "markdown",
   "id": "676fa4da",
   "metadata": {},
   "source": []
  },
  {
   "cell_type": "code",
   "execution_count": null,
   "id": "995d5b20",
   "metadata": {
    "id": "20fd5962"
   },
   "outputs": [],
   "source": [
    "#The learning rate controls the step size for updates, and momentum helps accelerate convergence by smoothing updates.\n",
    "optimizer = SGD(learning_rate=0.01, momentum=0.9)\n",
    "model.compile(\n",
    "    optimizer=optimizer,\n",
    "    loss=\"sparse_categorical_crossentropy\", #which is suitable for multi-class classification problems where labels are integers \n",
    "    metrics=[\"accuracy\"]\n",
    "    #Specifies accuracy as the evaluation metric, allowing the model to report the percentage of correct predictions during training and evaluation.\n",
    ")\n"
   ]
  },
  {
   "cell_type": "code",
   "execution_count": 14,
   "id": "70117802",
   "metadata": {
    "colab": {
     "base_uri": "https://localhost:8080/",
     "height": 289
    },
    "id": "e0e994f7",
    "outputId": "31a91bb1-cc90-4f18-e09c-14b65df824ce"
   },
   "outputs": [
    {
     "name": "stdout",
     "output_type": "stream",
     "text": [
      "Model: \"sequential\"\n",
      "_________________________________________________________________\n",
      " Layer (type)                Output Shape              Param #   \n",
      "=================================================================\n",
      " conv2d (Conv2D)             (None, 26, 26, 32)        320       \n",
      "                                                                 \n",
      " max_pooling2d (MaxPooling2D  (None, 13, 13, 32)       0         \n",
      " )                                                               \n",
      "                                                                 \n",
      " flatten (Flatten)           (None, 5408)              0         \n",
      "                                                                 \n",
      " dense (Dense)               (None, 100)               540900    \n",
      "                                                                 \n",
      " dense_1 (Dense)             (None, 10)                1010      \n",
      "                                                                 \n",
      "=================================================================\n",
      "Total params: 542,230\n",
      "Trainable params: 542,230\n",
      "Non-trainable params: 0\n",
      "_________________________________________________________________\n"
     ]
    }
   ],
   "source": [
    "model.summary()"
   ]
  },
  {
   "cell_type": "code",
   "execution_count": null,
   "id": "1759f16c",
   "metadata": {
    "colab": {
     "base_uri": "https://localhost:8080/"
    },
    "id": "e929a78e",
    "outputId": "03515bf1-1546-4ed6-901d-7f5e31a73edc"
   },
   "outputs": [
    {
     "name": "stdout",
     "output_type": "stream",
     "text": [
      "Epoch 1/10\n",
      "3200/3200 [==============================] - 108s 15ms/step - loss: 3.1938 - accuracy: 0.1095 - val_loss: 2.3031 - val_accuracy: 0.1016\n",
      "Epoch 2/10\n",
      "3200/3200 [==============================] - 47s 15ms/step - loss: 2.3027 - accuracy: 0.1089 - val_loss: 2.3041 - val_accuracy: 0.0978\n",
      "Epoch 3/10\n",
      "3200/3200 [==============================] - 47s 15ms/step - loss: 2.3026 - accuracy: 0.1108 - val_loss: 2.3037 - val_accuracy: 0.0995\n",
      "Epoch 4/10\n",
      "3200/3200 [==============================] - 46s 14ms/step - loss: 2.3029 - accuracy: 0.1094 - val_loss: 2.3031 - val_accuracy: 0.1082\n",
      "Epoch 5/10\n",
      "3200/3200 [==============================] - 49s 15ms/step - loss: 2.3027 - accuracy: 0.1081 - val_loss: 2.3035 - val_accuracy: 0.1102\n",
      "Epoch 6/10\n",
      "3200/3200 [==============================] - 49s 15ms/step - loss: 2.3027 - accuracy: 0.1117 - val_loss: 2.3022 - val_accuracy: 0.1102\n",
      "Epoch 7/10\n",
      "3200/3200 [==============================] - 45s 14ms/step - loss: 2.3029 - accuracy: 0.1086 - val_loss: 2.3033 - val_accuracy: 0.1102\n",
      "Epoch 8/10\n",
      "3200/3200 [==============================] - 47s 15ms/step - loss: 2.3028 - accuracy: 0.1087 - val_loss: 2.3024 - val_accuracy: 0.1102\n",
      "Epoch 9/10\n",
      "3200/3200 [==============================] - 45s 14ms/step - loss: 2.3029 - accuracy: 0.1099 - val_loss: 2.3034 - val_accuracy: 0.0981\n",
      "Epoch 10/10\n",
      "3200/3200 [==============================] - 49s 15ms/step - loss: 2.3027 - accuracy: 0.1106 - val_loss: 2.3036 - val_accuracy: 0.1102\n"
     ]
    }
   ],
   "source": [
    "# Assuming you have X and y loaded, which represent the features and labels respectively\n",
    "# Split the data into training and validation sets (e.g., 80% train, 20% validation)\n",
    "X_train, X_val, y_train, y_val = train_test_split(X, y, test_size=0.2, random_state=42)\n",
    "#Stores training history\n",
    "# Now you can use X_val and y_val in model.fit\n",
    "Model_log = model.fit(\n",
    "    X_train,\n",
    "    y_train,\n",
    "    epochs=10,\n",
    "    batch_size=15,\n",
    "    verbose=1, #Displays detailed progress, showing loss and accuracy for each epoch.\n",
    "    validation_data=(X_val, y_val)# Uses a separate validation dataset\n",
    ")"
   ]
  },
  {
   "cell_type": "code",
   "execution_count": null,
   "id": "2a71aaa5",
   "metadata": {
    "colab": {
     "base_uri": "https://localhost:8080/",
     "height": 938
    },
    "id": "556b4758",
    "outputId": "b53259d3-923e-4844-efad-3eca1d263033"
   },
   "outputs": [
    {
     "name": "stdout",
     "output_type": "stream",
     "text": [
      "1/1 [==============================] - 1s 528ms/step\n",
      "1/1 [==============================] - 0s 71ms/step\n",
      "1/1 [==============================] - 0s 32ms/step\n",
      "1/1 [==============================] - 0s 32ms/step\n",
      "1/1 [==============================] - 0s 21ms/step\n",
      "1/1 [==============================] - 0s 21ms/step\n",
      "1/1 [==============================] - 0s 21ms/step\n",
      "1/1 [==============================] - 0s 21ms/step\n",
      "1/1 [==============================] - 0s 20ms/step\n",
      "1/1 [==============================] - 0s 21ms/step\n",
      "1/1 [==============================] - 0s 21ms/step\n",
      "1/1 [==============================] - 0s 21ms/step\n",
      "1/1 [==============================] - 0s 20ms/step\n",
      "1/1 [==============================] - 0s 21ms/step\n",
      "1/1 [==============================] - 0s 27ms/step\n",
      "1/1 [==============================] - 0s 20ms/step\n",
      "1/1 [==============================] - 0s 21ms/step\n",
      "1/1 [==============================] - 0s 21ms/step\n",
      "1/1 [==============================] - 0s 36ms/step\n",
      "1/1 [==============================] - 0s 20ms/step\n"
     ]
    },
    {
     "data": {
      "image/png": "[encoded data removed]",
      "text/plain": [
       "<Figure size 1152x720 with 20 Axes>"
      ]
     },
     "metadata": {},
     "output_type": "display_data"
    }
   ],
   "source": [
    "plt.figure(figsize=(16, 10)) #new figure with a specified size for the plot\n",
    "for i in range(20):          #A loop is set up to run 20 times\n",
    "    image = random.choice(X_test).squeeze() #randomly selects one image from the test set\n",
    "                                           #removes any single-dimensional entries from the shape of the image.\n",
    "    digit = np.argmax(model.predict(image.reshape((1, 28, 28, 1)))[0], axis=-1)\n",
    "    #The image is reshaped to add the batch dimension (from (28, 28) to (1, 28, 28, 1)) since the model expects the input to be in batches, even if it's just one image.\n",
    "    plot_digit(image, digit, plt, i)\n",
    "plt.show()\n"
   ]
  },
  {
   "cell_type": "code",
   "execution_count": null,
   "id": "71981ca3",
   "metadata": {
    "colab": {
     "base_uri": "https://localhost:8080/"
    },
    "id": "ce4e1960",
    "outputId": "af630b13-8452-4391-e8ef-e0fc9ba98dc0"
   },
   "outputs": [
    {
     "name": "stdout",
     "output_type": "stream",
     "text": [
      "313/313 [==============================] - 2s 6ms/step\n"
     ]
    },
    {
     "data": {
      "text/plain": [
       "0.1135"
      ]
     },
     "execution_count": 17,
     "metadata": {},
     "output_type": "execute_result"
    }
   ],
   "source": [
    "predictions = np.argmax(model.predict(X_test),axis=-1)\n",
    "accuracy_score(y_test,predictions)\n",
    "\n",
    "#The code predicts the labels for all test images and then evaluates the model's accuracy by comparing the predicted labels to the true labels in y_test.\n",
    "# The output is the accuracy score, a number between 0 and 1, where 1 means perfect accuracy and 0 means no correct predictions."
   ]
  },
  {
   "cell_type": "code",
   "execution_count": null,
   "id": "6fc29ef8",
   "metadata": {
    "colab": {
     "base_uri": "https://localhost:8080/",
     "height": 430
    },
    "id": "a69e6e83",
    "outputId": "9f350a7f-679e-473b-98fc-ca48032956c8"
   },
   "outputs": [
    {
     "data": {
      "image/png": "[encoded data removed]",
      "text/plain": [
       "<Figure size 432x288 with 1 Axes>"
      ]
     },
     "metadata": {
      "needs_background": "light"
     },
     "output_type": "display_data"
    }
   ],
   "source": [
    "n = random.randint(0,9999)\n",
    "plt.imshow(X_test[n])\n",
    "plt.show()\n",
    "# randomly selects a number"
   ]
  },
  {
   "cell_type": "code",
   "execution_count": null,
   "id": "95f47d39",
   "metadata": {
    "colab": {
     "base_uri": "https://localhost:8080/"
    },
    "id": "85b29a21",
    "outputId": "28a822ba-35c6-4cdc-ef4d-377bdc7879a7"
   },
   "outputs": [
    {
     "name": "stdout",
     "output_type": "stream",
     "text": [
      "313/313 [==============================] - 2s 6ms/step\n",
      "Handwritten number in the image is = 1\n"
     ]
    }
   ],
   "source": [
    "predicted_value = model.predict(X_test)\n",
    "print(\"Handwritten number in the image is = %d\" %np.argmax(predicted_value[n]))\n",
    "#This code snippet is making a prediction for the n-th image in the test dataset, X_test, and then printing the predicted label (digit) based on the model’s output."
   ]
  },
  {
   "cell_type": "code",
   "execution_count": 20,
   "id": "0bb6e278",
   "metadata": {
    "colab": {
     "base_uri": "https://localhost:8080/"
    },
    "id": "9017db0d",
    "outputId": "a16d6b69-cf20-4221-a2eb-f76a91f5fc2c"
   },
   "outputs": [
    {
     "name": "stdout",
     "output_type": "stream",
     "text": [
      "Test loss: 2.302887201309204\n",
      "Testaccuracy: 0.11349999904632568\n"
     ]
    }
   ],
   "source": [
    "# Estimating the model's performance\n",
    "score = model.evaluate(X_test,y_test,verbose=0)\n",
    "print('Test loss:' , score[0])\n",
    "print('Testaccuracy:',score[1])"
   ]
  },
  {
   "cell_type": "code",
   "execution_count": null,
   "id": "bd9b447a",
   "metadata": {
    "id": "0288647e"
   },
   "outputs": [],
   "source": []
  }
 ],
 "metadata": {
  "colab": {
   "provenance": []
  },
  "kernelspec": {
   "display_name": "Python 3",
   "language": "python",
   "name": "python3"
  },
  "language_info": {
   "codemirror_mode": {
    "name": "ipython",
    "version": 3
   },
   "file_extension": ".py",
   "mimetype": "text/x-python",
   "name": "python",
   "nbconvert_exporter": "python",
   "pygments_lexer": "ipython3",
   "version": "3.8.5"
  }
 },
 "nbformat": 4,
 "nbformat_minor": 5
}
