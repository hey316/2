{
 "cells": [
  {
   "cell_type": "code",
   "execution_count": 2,
   "id": "efe36874",
   "metadata": {
    "id": "6_Fs7GJTM9m9"
   },
   "outputs": [
    {
     "data": {
      "text/plain": [
       "'Use Autoencoder to implement anomaly detection. Build the model by using:\\na. Import required libraries\\nb. Upload / access the dataset\\nc. Encoder converts it into latent representation\\nd. Decoder networks convert it back to the original input\\ne. Compile the models with Optimizer, Loss, and Evaluation Metrics'"
      ]
     },
     "execution_count": 2,
     "metadata": {},
     "output_type": "execute_result"
    }
   ],
   "source": [
    "'''Use Autoencoder to implement anomaly detection. Build the model by using:\n",
    "a. Import required libraries\n",
    "b. Upload / access the dataset\n",
    "c. Encoder converts it into latent representation\n",
    "d. Decoder networks convert it back to the original input\n",
    "e. Compile the models with Optimizer, Loss, and Evaluation Metrics'''"
   ]
  },
  {
   "cell_type": "code",
   "execution_count": null,
   "id": "19b6f67c",
   "metadata": {
    "id": "ZtRrl1seM58s"
   },
   "outputs": [],
   "source": [
    "import pandas as pd\n",
    "import numpy as np\n",
    "import tensorflow as tf\n",
    "import matplotlib.pyplot as plt\n",
    "import seaborn as sns\n",
    "from sklearn.model_selection import train_test_split\n",
    "\n",
    "from sklearn.preprocessing import StandardScaler # by removing the mean and scaling them to unit variance.\n",
    "from sklearn.metrics import confusion_matrix, recall_score, accuracy_score, precision_score #evaluate the model’s performance on anomaly detection.\n",
    "\n",
    "\n",
    "RANDOM_SEED = 2021 #This sets a seed for random number generation to ensure reproducibility.\n",
    "TEST_PCT = 0.3 #the percentage of the dataset allocated for testing.\n",
    "LABELS = [\"Normal\",\"Fraud\"]\n",
    "\n",
    "#This list provides labels for the classes in the dataset. 0 represents a normal transaction, and 1 represents fraud."
   ]
  },
  {
   "cell_type": "code",
   "execution_count": 4,
   "id": "853c5196",
   "metadata": {
    "id": "eKZFaWjzM58u"
   },
   "outputs": [],
   "source": [
    "dataset = pd.read_csv(\"creditcard.csv\")"
   ]
  },
  {
   "cell_type": "code",
   "execution_count": null,
   "id": "021bdb17",
   "metadata": {
    "id": "tb8RnVOJM58v",
    "outputId": "2f5000f7-1916-4284-db6d-c9a66b2088aa"
   },
   "outputs": [
    {
     "name": "stdout",
     "output_type": "stream",
     "text": [
      "Any nulls in the dataset False\n",
      "-------\n",
      "No. of unique labels 2\n",
      "Label values [0 1]\n",
      "-------\n",
      "Break down of Normal and Fraud Transcations\n",
      "0    284315\n",
      "1       492\n",
      "Name: Class, dtype: int64\n"
     ]
    }
   ],
   "source": [
    "#check for any null values\n",
    "print(\"Any nulls in the dataset\",dataset.isnull().values.any()) #see if it contains any null values\n",
    "print('-------')\n",
    "print(\"No. of unique labels\",len(dataset['Class'].unique())) # This retrieves the unique values in the Class column of the dataset.\n",
    "print(\"Label values\",dataset.Class.unique()) # calculates the total number of unique labels in the Class column.\n",
    "\n",
    "#0 is for normal credit card transcation\n",
    "#1 is for fraudulent credit card transcation\n",
    "print('-------')\n",
    "print(\"Break down of Normal and Fraud Transcations\")\n",
    "print(pd.value_counts(dataset['Class'],sort=True)) # counts occurrences of each unique value in the Class column, which will show the distribution between normal and fraudulent transactions."
   ]
  },
  {
   "cell_type": "code",
   "execution_count": null,
   "id": "3ed07e17",
   "metadata": {
    "id": "xlYIky7IM58w",
    "outputId": "54070e74-cb01-4371-847d-90ca20b5e66c"
   },
   "outputs": [
    {
     "data": {
      "text/plain": [
       "Text(0, 0.5, 'Number of Observations')"
      ]
     },
     "execution_count": 6,
     "metadata": {},
     "output_type": "execute_result"
    },
    {
     "data": {
      "image/png": "[encoded data removed]",
      "text/plain": [
       "<Figure size 432x288 with 1 Axes>"
      ]
     },
     "metadata": {
      "needs_background": "light"
     },
     "output_type": "display_data"
    }
   ],
   "source": [
    "#visualizing the imbalanced dataset\n",
    "count_classes = pd.value_counts(dataset['Class'],sort=True) #calculate the count of each unique class\n",
    "count_classes.plot(kind='bar',rot=0) # we create a bar chart showing the number of observations for each class.\n",
    "plt.xticks(range(len(dataset['Class'].unique())),dataset.Class.unique())\n",
    "#plt.xticks() customizes the labels on the x-axis\n",
    "#generates a sequence representing each unique class\n",
    "#retrieves the actual unique values in the Class column (normal and fraud labels), which are used as labels on the x-axis.\n",
    "\n",
    "plt.title(\"Frequency by observation number\")\n",
    "plt.xlabel(\"Class\")\n",
    "plt.ylabel(\"Number of Observations\")"
   ]
  },
  {
   "cell_type": "code",
   "execution_count": null,
   "id": "e5d03bbf",
   "metadata": {
    "id": "SSPq-3q2M58y",
    "outputId": "664f2f7c-1d79-4d2f-e2a8-f5d15a97c729"
   },
   "outputs": [
    {
     "data": {
      "image/png": "[encoded data removed]",
      "text/plain": [
       "<Figure size 432x288 with 1 Axes>"
      ]
     },
     "metadata": {
      "needs_background": "light"
     },
     "output_type": "display_data"
    }
   ],
   "source": [
    "#Save the normal and fradulent transcations in seperate dataframe\n",
    "normal_dataset = dataset[dataset.Class == 0]\n",
    "fraud_dataset = dataset[dataset.Class == 1]\n",
    "\n",
    "#Visualize transcation amounts for normal and fraudulent transcations\n",
    "#Plots transaction amounts for both normal and fraud transactions using plt.hist().\n",
    "bins = np.linspace(200,2500,100) #Ranges from 200 to 2500 in 100 intervals\n",
    "plt.hist(normal_dataset.Amount,bins=bins,alpha=1,density=True,label='Normal') #alpha Sets transparency, density=True: Normalizes counts for percentage comparison.\n",
    "plt.hist(fraud_dataset.Amount,bins=bins,alpha=0.5,density=True,label='Fraud')\n",
    "plt.legend(loc='upper right')\n",
    "plt.title(\"Transcation Amount vs Percentage of Transcations\")\n",
    "plt.xlabel(\"Transcation Amount (USD)\")\n",
    "plt.ylabel(\"Percentage of Transcations\")\n",
    "plt.show()\n",
    "\n",
    "#Displays the histogram, comparing transaction amount distributions for normal vs. fraud transactions."
   ]
  },
  {
   "cell_type": "code",
   "execution_count": 8,
   "id": "2ecfd412",
   "metadata": {
    "id": "xznxxwIVM58z",
    "outputId": "930a91fd-4c0c-42d8-83d5-d6d568ccdd69"
   },
   "outputs": [
    {
     "data": {
      "text/html": [
       "<div>\n",
       "<style scoped>\n",
       "    .dataframe tbody tr th:only-of-type {\n",
       "        vertical-align: middle;\n",
       "    }\n",
       "\n",
       "    .dataframe tbody tr th {\n",
       "        vertical-align: top;\n",
       "    }\n",
       "\n",
       "    .dataframe thead th {\n",
       "        text-align: right;\n",
       "    }\n",
       "</style>\n",
       "<table border=\"1\" class=\"dataframe\">\n",
       "  <thead>\n",
       "    <tr style=\"text-align: right;\">\n",
       "      <th></th>\n",
       "      <th>Time</th>\n",
       "      <th>V1</th>\n",
       "      <th>V2</th>\n",
       "      <th>V3</th>\n",
       "      <th>V4</th>\n",
       "      <th>V5</th>\n",
       "      <th>V6</th>\n",
       "      <th>V7</th>\n",
       "      <th>V8</th>\n",
       "      <th>V9</th>\n",
       "      <th>...</th>\n",
       "      <th>V21</th>\n",
       "      <th>V22</th>\n",
       "      <th>V23</th>\n",
       "      <th>V24</th>\n",
       "      <th>V25</th>\n",
       "      <th>V26</th>\n",
       "      <th>V27</th>\n",
       "      <th>V28</th>\n",
       "      <th>Amount</th>\n",
       "      <th>Class</th>\n",
       "    </tr>\n",
       "  </thead>\n",
       "  <tbody>\n",
       "    <tr>\n",
       "      <th>0</th>\n",
       "      <td>0.0</td>\n",
       "      <td>-1.359807</td>\n",
       "      <td>-0.072781</td>\n",
       "      <td>2.536347</td>\n",
       "      <td>1.378155</td>\n",
       "      <td>-0.338321</td>\n",
       "      <td>0.462388</td>\n",
       "      <td>0.239599</td>\n",
       "      <td>0.098698</td>\n",
       "      <td>0.363787</td>\n",
       "      <td>...</td>\n",
       "      <td>-0.018307</td>\n",
       "      <td>0.277838</td>\n",
       "      <td>-0.110474</td>\n",
       "      <td>0.066928</td>\n",
       "      <td>0.128539</td>\n",
       "      <td>-0.189115</td>\n",
       "      <td>0.133558</td>\n",
       "      <td>-0.021053</td>\n",
       "      <td>149.62</td>\n",
       "      <td>0</td>\n",
       "    </tr>\n",
       "    <tr>\n",
       "      <th>1</th>\n",
       "      <td>0.0</td>\n",
       "      <td>1.191857</td>\n",
       "      <td>0.266151</td>\n",
       "      <td>0.166480</td>\n",
       "      <td>0.448154</td>\n",
       "      <td>0.060018</td>\n",
       "      <td>-0.082361</td>\n",
       "      <td>-0.078803</td>\n",
       "      <td>0.085102</td>\n",
       "      <td>-0.255425</td>\n",
       "      <td>...</td>\n",
       "      <td>-0.225775</td>\n",
       "      <td>-0.638672</td>\n",
       "      <td>0.101288</td>\n",
       "      <td>-0.339846</td>\n",
       "      <td>0.167170</td>\n",
       "      <td>0.125895</td>\n",
       "      <td>-0.008983</td>\n",
       "      <td>0.014724</td>\n",
       "      <td>2.69</td>\n",
       "      <td>0</td>\n",
       "    </tr>\n",
       "    <tr>\n",
       "      <th>2</th>\n",
       "      <td>1.0</td>\n",
       "      <td>-1.358354</td>\n",
       "      <td>-1.340163</td>\n",
       "      <td>1.773209</td>\n",
       "      <td>0.379780</td>\n",
       "      <td>-0.503198</td>\n",
       "      <td>1.800499</td>\n",
       "      <td>0.791461</td>\n",
       "      <td>0.247676</td>\n",
       "      <td>-1.514654</td>\n",
       "      <td>...</td>\n",
       "      <td>0.247998</td>\n",
       "      <td>0.771679</td>\n",
       "      <td>0.909412</td>\n",
       "      <td>-0.689281</td>\n",
       "      <td>-0.327642</td>\n",
       "      <td>-0.139097</td>\n",
       "      <td>-0.055353</td>\n",
       "      <td>-0.059752</td>\n",
       "      <td>378.66</td>\n",
       "      <td>0</td>\n",
       "    </tr>\n",
       "    <tr>\n",
       "      <th>3</th>\n",
       "      <td>1.0</td>\n",
       "      <td>-0.966272</td>\n",
       "      <td>-0.185226</td>\n",
       "      <td>1.792993</td>\n",
       "      <td>-0.863291</td>\n",
       "      <td>-0.010309</td>\n",
       "      <td>1.247203</td>\n",
       "      <td>0.237609</td>\n",
       "      <td>0.377436</td>\n",
       "      <td>-1.387024</td>\n",
       "      <td>...</td>\n",
       "      <td>-0.108300</td>\n",
       "      <td>0.005274</td>\n",
       "      <td>-0.190321</td>\n",
       "      <td>-1.175575</td>\n",
       "      <td>0.647376</td>\n",
       "      <td>-0.221929</td>\n",
       "      <td>0.062723</td>\n",
       "      <td>0.061458</td>\n",
       "      <td>123.50</td>\n",
       "      <td>0</td>\n",
       "    </tr>\n",
       "    <tr>\n",
       "      <th>4</th>\n",
       "      <td>2.0</td>\n",
       "      <td>-1.158233</td>\n",
       "      <td>0.877737</td>\n",
       "      <td>1.548718</td>\n",
       "      <td>0.403034</td>\n",
       "      <td>-0.407193</td>\n",
       "      <td>0.095921</td>\n",
       "      <td>0.592941</td>\n",
       "      <td>-0.270533</td>\n",
       "      <td>0.817739</td>\n",
       "      <td>...</td>\n",
       "      <td>-0.009431</td>\n",
       "      <td>0.798278</td>\n",
       "      <td>-0.137458</td>\n",
       "      <td>0.141267</td>\n",
       "      <td>-0.206010</td>\n",
       "      <td>0.502292</td>\n",
       "      <td>0.219422</td>\n",
       "      <td>0.215153</td>\n",
       "      <td>69.99</td>\n",
       "      <td>0</td>\n",
       "    </tr>\n",
       "    <tr>\n",
       "      <th>...</th>\n",
       "      <td>...</td>\n",
       "      <td>...</td>\n",
       "      <td>...</td>\n",
       "      <td>...</td>\n",
       "      <td>...</td>\n",
       "      <td>...</td>\n",
       "      <td>...</td>\n",
       "      <td>...</td>\n",
       "      <td>...</td>\n",
       "      <td>...</td>\n",
       "      <td>...</td>\n",
       "      <td>...</td>\n",
       "      <td>...</td>\n",
       "      <td>...</td>\n",
       "      <td>...</td>\n",
       "      <td>...</td>\n",
       "      <td>...</td>\n",
       "      <td>...</td>\n",
       "      <td>...</td>\n",
       "      <td>...</td>\n",
       "      <td>...</td>\n",
       "    </tr>\n",
       "    <tr>\n",
       "      <th>284802</th>\n",
       "      <td>172786.0</td>\n",
       "      <td>-11.881118</td>\n",
       "      <td>10.071785</td>\n",
       "      <td>-9.834783</td>\n",
       "      <td>-2.066656</td>\n",
       "      <td>-5.364473</td>\n",
       "      <td>-2.606837</td>\n",
       "      <td>-4.918215</td>\n",
       "      <td>7.305334</td>\n",
       "      <td>1.914428</td>\n",
       "      <td>...</td>\n",
       "      <td>0.213454</td>\n",
       "      <td>0.111864</td>\n",
       "      <td>1.014480</td>\n",
       "      <td>-0.509348</td>\n",
       "      <td>1.436807</td>\n",
       "      <td>0.250034</td>\n",
       "      <td>0.943651</td>\n",
       "      <td>0.823731</td>\n",
       "      <td>0.77</td>\n",
       "      <td>0</td>\n",
       "    </tr>\n",
       "    <tr>\n",
       "      <th>284803</th>\n",
       "      <td>172787.0</td>\n",
       "      <td>-0.732789</td>\n",
       "      <td>-0.055080</td>\n",
       "      <td>2.035030</td>\n",
       "      <td>-0.738589</td>\n",
       "      <td>0.868229</td>\n",
       "      <td>1.058415</td>\n",
       "      <td>0.024330</td>\n",
       "      <td>0.294869</td>\n",
       "      <td>0.584800</td>\n",
       "      <td>...</td>\n",
       "      <td>0.214205</td>\n",
       "      <td>0.924384</td>\n",
       "      <td>0.012463</td>\n",
       "      <td>-1.016226</td>\n",
       "      <td>-0.606624</td>\n",
       "      <td>-0.395255</td>\n",
       "      <td>0.068472</td>\n",
       "      <td>-0.053527</td>\n",
       "      <td>24.79</td>\n",
       "      <td>0</td>\n",
       "    </tr>\n",
       "    <tr>\n",
       "      <th>284804</th>\n",
       "      <td>172788.0</td>\n",
       "      <td>1.919565</td>\n",
       "      <td>-0.301254</td>\n",
       "      <td>-3.249640</td>\n",
       "      <td>-0.557828</td>\n",
       "      <td>2.630515</td>\n",
       "      <td>3.031260</td>\n",
       "      <td>-0.296827</td>\n",
       "      <td>0.708417</td>\n",
       "      <td>0.432454</td>\n",
       "      <td>...</td>\n",
       "      <td>0.232045</td>\n",
       "      <td>0.578229</td>\n",
       "      <td>-0.037501</td>\n",
       "      <td>0.640134</td>\n",
       "      <td>0.265745</td>\n",
       "      <td>-0.087371</td>\n",
       "      <td>0.004455</td>\n",
       "      <td>-0.026561</td>\n",
       "      <td>67.88</td>\n",
       "      <td>0</td>\n",
       "    </tr>\n",
       "    <tr>\n",
       "      <th>284805</th>\n",
       "      <td>172788.0</td>\n",
       "      <td>-0.240440</td>\n",
       "      <td>0.530483</td>\n",
       "      <td>0.702510</td>\n",
       "      <td>0.689799</td>\n",
       "      <td>-0.377961</td>\n",
       "      <td>0.623708</td>\n",
       "      <td>-0.686180</td>\n",
       "      <td>0.679145</td>\n",
       "      <td>0.392087</td>\n",
       "      <td>...</td>\n",
       "      <td>0.265245</td>\n",
       "      <td>0.800049</td>\n",
       "      <td>-0.163298</td>\n",
       "      <td>0.123205</td>\n",
       "      <td>-0.569159</td>\n",
       "      <td>0.546668</td>\n",
       "      <td>0.108821</td>\n",
       "      <td>0.104533</td>\n",
       "      <td>10.00</td>\n",
       "      <td>0</td>\n",
       "    </tr>\n",
       "    <tr>\n",
       "      <th>284806</th>\n",
       "      <td>172792.0</td>\n",
       "      <td>-0.533413</td>\n",
       "      <td>-0.189733</td>\n",
       "      <td>0.703337</td>\n",
       "      <td>-0.506271</td>\n",
       "      <td>-0.012546</td>\n",
       "      <td>-0.649617</td>\n",
       "      <td>1.577006</td>\n",
       "      <td>-0.414650</td>\n",
       "      <td>0.486180</td>\n",
       "      <td>...</td>\n",
       "      <td>0.261057</td>\n",
       "      <td>0.643078</td>\n",
       "      <td>0.376777</td>\n",
       "      <td>0.008797</td>\n",
       "      <td>-0.473649</td>\n",
       "      <td>-0.818267</td>\n",
       "      <td>-0.002415</td>\n",
       "      <td>0.013649</td>\n",
       "      <td>217.00</td>\n",
       "      <td>0</td>\n",
       "    </tr>\n",
       "  </tbody>\n",
       "</table>\n",
       "<p>284807 rows × 31 columns</p>\n",
       "</div>"
      ],
      "text/plain": [
       "            Time         V1         V2        V3        V4        V5  \\\n",
       "0            0.0  -1.359807  -0.072781  2.536347  1.378155 -0.338321   \n",
       "1            0.0   1.191857   0.266151  0.166480  0.448154  0.060018   \n",
       "2            1.0  -1.358354  -1.340163  1.773209  0.379780 -0.503198   \n",
       "3            1.0  -0.966272  -0.185226  1.792993 -0.863291 -0.010309   \n",
       "4            2.0  -1.158233   0.877737  1.548718  0.403034 -0.407193   \n",
       "...          ...        ...        ...       ...       ...       ...   \n",
       "284802  172786.0 -11.881118  10.071785 -9.834783 -2.066656 -5.364473   \n",
       "284803  172787.0  -0.732789  -0.055080  2.035030 -0.738589  0.868229   \n",
       "284804  172788.0   1.919565  -0.301254 -3.249640 -0.557828  2.630515   \n",
       "284805  172788.0  -0.240440   0.530483  0.702510  0.689799 -0.377961   \n",
       "284806  172792.0  -0.533413  -0.189733  0.703337 -0.506271 -0.012546   \n",
       "\n",
       "              V6        V7        V8        V9  ...       V21       V22  \\\n",
       "0       0.462388  0.239599  0.098698  0.363787  ... -0.018307  0.277838   \n",
       "1      -0.082361 -0.078803  0.085102 -0.255425  ... -0.225775 -0.638672   \n",
       "2       1.800499  0.791461  0.247676 -1.514654  ...  0.247998  0.771679   \n",
       "3       1.247203  0.237609  0.377436 -1.387024  ... -0.108300  0.005274   \n",
       "4       0.095921  0.592941 -0.270533  0.817739  ... -0.009431  0.798278   \n",
       "...          ...       ...       ...       ...  ...       ...       ...   \n",
       "284802 -2.606837 -4.918215  7.305334  1.914428  ...  0.213454  0.111864   \n",
       "284803  1.058415  0.024330  0.294869  0.584800  ...  0.214205  0.924384   \n",
       "284804  3.031260 -0.296827  0.708417  0.432454  ...  0.232045  0.578229   \n",
       "284805  0.623708 -0.686180  0.679145  0.392087  ...  0.265245  0.800049   \n",
       "284806 -0.649617  1.577006 -0.414650  0.486180  ...  0.261057  0.643078   \n",
       "\n",
       "             V23       V24       V25       V26       V27       V28  Amount  \\\n",
       "0      -0.110474  0.066928  0.128539 -0.189115  0.133558 -0.021053  149.62   \n",
       "1       0.101288 -0.339846  0.167170  0.125895 -0.008983  0.014724    2.69   \n",
       "2       0.909412 -0.689281 -0.327642 -0.139097 -0.055353 -0.059752  378.66   \n",
       "3      -0.190321 -1.175575  0.647376 -0.221929  0.062723  0.061458  123.50   \n",
       "4      -0.137458  0.141267 -0.206010  0.502292  0.219422  0.215153   69.99   \n",
       "...          ...       ...       ...       ...       ...       ...     ...   \n",
       "284802  1.014480 -0.509348  1.436807  0.250034  0.943651  0.823731    0.77   \n",
       "284803  0.012463 -1.016226 -0.606624 -0.395255  0.068472 -0.053527   24.79   \n",
       "284804 -0.037501  0.640134  0.265745 -0.087371  0.004455 -0.026561   67.88   \n",
       "284805 -0.163298  0.123205 -0.569159  0.546668  0.108821  0.104533   10.00   \n",
       "284806  0.376777  0.008797 -0.473649 -0.818267 -0.002415  0.013649  217.00   \n",
       "\n",
       "        Class  \n",
       "0           0  \n",
       "1           0  \n",
       "2           0  \n",
       "3           0  \n",
       "4           0  \n",
       "...       ...  \n",
       "284802      0  \n",
       "284803      0  \n",
       "284804      0  \n",
       "284805      0  \n",
       "284806      0  \n",
       "\n",
       "[284807 rows x 31 columns]"
      ]
     },
     "execution_count": 8,
     "metadata": {},
     "output_type": "execute_result"
    }
   ],
   "source": [
    "dataset"
   ]
  },
  {
   "cell_type": "code",
   "execution_count": null,
   "id": "5d8edc4a",
   "metadata": {
    "id": "XK5nbKo2M580"
   },
   "outputs": [],
   "source": [
    "#standardizes features by removing the mean and scaling to unit variance, \n",
    "# which helps neural networks learn more effectively.\n",
    "\n",
    "sc = StandardScaler()\n",
    "dataset['Time'] = sc.fit_transform(dataset['Time'].values.reshape(-1,1))\n",
    "#Standardizes the Amount column by fitting a scaler to it and transforming it to have a mean of 0 and variance of 1.\n",
    "dataset['Amount'] = sc.fit_transform(dataset['Amount'].values.reshape(-1,1))\n",
    "#Similarly, scales the Time column to improve learning consistency."
   ]
  },
  {
   "cell_type": "code",
   "execution_count": null,
   "id": "57303b61",
   "metadata": {
    "id": "sJBSWvdGM581"
   },
   "outputs": [],
   "source": [
    "raw_data = dataset.values\n",
    "#The last element contains if the transcation is normal which is represented by 0 and if fraud then 1\n",
    "labels = raw_data[:,-1]\n",
    "\n",
    "#The other data points are the electrocadriogram data\n",
    "data = raw_data[:,0:-1]\n",
    "\n",
    "train_data,test_data,train_labels,test_labels = train_test_split(data,labels,test_size = 0.2,random_state =2021)\n",
    "# Splits data and labels into training and test sets (80% training, 20% testing) with a fixed random state for reproducibility"
   ]
  },
  {
   "cell_type": "code",
   "execution_count": null,
   "id": "82de229b",
   "metadata": {
    "id": "tbTRW7y2M582"
   },
   "outputs": [],
   "source": [
    "min_val = tf.reduce_min(train_data)\n",
    "max_val = tf.reduce_max(train_data)\n",
    "\n",
    "train_data = (train_data - min_val) / (max_val - min_val)\n",
    "test_data = (test_data - min_val) / (max_val - min_val)\n",
    "\n",
    "train_data = tf.cast(train_data,tf.float32)\n",
    "test_data = tf.cast(test_data,tf.float32)\n",
    "\n",
    "#This code normalizes the train_data and test_data to a 0-1 range\n",
    "#  and converts them to a float32 type"
   ]
  },
  {
   "cell_type": "code",
   "execution_count": null,
   "id": "e0c35148",
   "metadata": {
    "id": "OzhGZoZ2M582",
    "outputId": "7f532576-9fa2-4c7d-f001-f3424283eaf6"
   },
   "outputs": [
    {
     "name": "stdout",
     "output_type": "stream",
     "text": [
      "No. of records in Fraud Train Data= 389\n",
      "No. of records in Normal Train Data= 227456\n",
      "No. of records in Fraud Test Data= 103\n",
      "No. of records in Normal Test Data= 56859\n"
     ]
    }
   ],
   "source": [
    "#The code splits the dataset into two categories: normal and fraud, \n",
    "# based on the train_labels and test_labels. \n",
    "# It creates separate datasets for normal and fraud transactions in both the training and testing sets. \n",
    "# The boolean conversion ensures True represents fraud and False represents normal. \n",
    "# Finally, it prints the number of records in each category (fraud and normal) for both training and testing data.\n",
    "\n",
    "\n",
    "train_labels = train_labels.astype(bool)\n",
    "test_labels = test_labels.astype(bool)\n",
    "\n",
    "#Creating normal and fraud datasets\n",
    "normal_train_data = train_data[~train_labels]\n",
    "normal_test_data = test_data[~test_labels]\n",
    "\n",
    "fraud_train_data = train_data[train_labels]\n",
    "fraud_test_data = test_data[test_labels]\n",
    "print(\"No. of records in Fraud Train Data=\",len(fraud_train_data))\n",
    "print(\"No. of records in Normal Train Data=\",len(normal_train_data))\n",
    "print(\"No. of records in Fraud Test Data=\",len(fraud_test_data))\n",
    "print(\"No. of records in Normal Test Data=\",len(normal_test_data))"
   ]
  },
  {
   "cell_type": "code",
   "execution_count": null,
   "id": "dfc6dfb9",
   "metadata": {
    "id": "8DRQpclyM583"
   },
   "outputs": [],
   "source": [
    "#nb_epoch = 50: Specifies the number of epochs (iterations over the entire dataset) to train the model. The model will be trained for 50 epochs.\n",
    "\n",
    "#batch_size = 64: Defines the number of samples per batch during training. In this case, the model will update its weights after processing 64 samples at a time.\n",
    "\n",
    "#input_dim = normal_train_data.shape[1]: Sets the input dimension to the number of features (columns) in the normal_train_data. If normal_train_data has 30 features, input_dim will be 30.\n",
    "\n",
    "#encoding_dim = 14: Defines the dimension of the encoding space (i.e., the number of neurons in the encoding layer of the model). In this case, the encoded representation of the input data will have 14 features.\n",
    "\n",
    "#hidden_dim1 = int(encoding_dim / 2): Sets the size of the first hidden layer to half of the encoding dimension. This means hidden_dim1 will be 7 (half of 14).\n",
    "\n",
    "#hidden_dim2 = 4: Defines the size of the second hidden layer as 4 neurons.\n",
    "\n",
    "#learning_rate = 1e-7: Sets the learning rate for the optimizer. A very small learning rate of 1e-7 suggests a slower but more precise training process, which may help avoid overshooting the optimal solution.\n",
    "\n",
    "nb_epoch = 50\n",
    "batch_size = 64\n",
    "input_dim = normal_train_data.shape[1]\n",
    "#num of columns,30\n",
    "encoding_dim = 14\n",
    "hidden_dim1 = int(encoding_dim / 2)\n",
    "hidden_dim2 = 4\n",
    "learning_rate = 1e-7"
   ]
  },
  {
   "cell_type": "code",
   "execution_count": null,
   "id": "79cf1fba",
   "metadata": {
    "id": "MKPtyMUeM583",
    "outputId": "ac6748db-a362-4650-c569-0df156bbc0a7"
   },
   "outputs": [
    {
     "name": "stdout",
     "output_type": "stream",
     "text": [
      "Model: \"model\"\n",
      "_________________________________________________________________\n",
      " Layer (type)                Output Shape              Param #   \n",
      "=================================================================\n",
      " input_1 (InputLayer)        [(None, 30)]              0         \n",
      "                                                                 \n",
      " dense (Dense)               (None, 14)                434       \n",
      "                                                                 \n",
      " dropout (Dropout)           (None, 14)                0         \n",
      "                                                                 \n",
      " dense_1 (Dense)             (None, 7)                 105       \n",
      "                                                                 \n",
      " dense_2 (Dense)             (None, 4)                 32        \n",
      "                                                                 \n",
      " dense_3 (Dense)             (None, 7)                 35        \n",
      "                                                                 \n",
      " dropout_1 (Dropout)         (None, 7)                 0         \n",
      "                                                                 \n",
      " dense_4 (Dense)             (None, 14)                112       \n",
      "                                                                 \n",
      " dense_5 (Dense)             (None, 30)                450       \n",
      "                                                                 \n",
      "=================================================================\n",
      "Total params: 1,168\n",
      "Trainable params: 1,168\n",
      "Non-trainable params: 0\n",
      "_________________________________________________________________\n"
     ]
    }
   ],
   "source": [
    "#input layer \n",
    "# Input Layer: Accepts input data with a shape of (input_dim,) (number of features)\n",
    "input_layer = tf.keras.layers.Input(shape=(input_dim,))\n",
    "\n",
    "#Encoder\n",
    "#Encoder: Reduces the input dimension step-by-step using dense layers with activations like tanh, ReLU, and Leaky ReLU. It also uses Dropout (20%) to prevent overfitting and L2 regularization.\n",
    "encoder = tf.keras.layers.Dense(encoding_dim,activation=\"tanh\",activity_regularizer = tf.keras.regularizers.l2(learning_rate))(input_layer)\n",
    "encoder = tf.keras.layers.Dropout(0.2)(encoder)\n",
    "encoder = tf.keras.layers.Dense(hidden_dim1,activation='relu')(encoder)\n",
    "encoder = tf.keras.layers.Dense(hidden_dim2,activation=tf.nn.leaky_relu)(encoder)\n",
    "\n",
    "#Decoder\n",
    "# Decoder: Expands the encoded data back to the original input dimension using dense layers with ReLU and tanh activations.\n",
    "\n",
    "decoder = tf.keras.layers.Dense(hidden_dim1,activation='relu')(encoder)\n",
    "decoder = tf.keras.layers.Dropout(0.2)(decoder)\n",
    "decoder = tf.keras.layers.Dense(encoding_dim,activation='relu')(decoder)\n",
    "decoder = tf.keras.layers.Dense(input_dim,activation='tanh')(decoder)\n",
    "\n",
    "#Autoencoder\n",
    "#Autoencoder Model: The encoder and decoder are combined into an autoencoder model for data compression and reconstruction.\n",
    "autoencoder = tf.keras.Model(inputs = input_layer,outputs = decoder)\n",
    "autoencoder.summary()"
   ]
  },
  {
   "cell_type": "code",
   "execution_count": null,
   "id": "2ec262d3",
   "metadata": {
    "id": "jxGQjACAM584"
   },
   "outputs": [],
   "source": [
    "cp = tf.keras.callbacks.ModelCheckpoint(filepath=\"autoencoder_fraud.h5\",mode='min',monitor='val_loss',verbose=2,save_best_only=True)\n",
    "#Define our early stopping\n",
    "early_stop = tf.keras.callbacks.EarlyStopping(\n",
    "                monitor='val_loss',\n",
    "                min_delta=0.0001,\n",
    "                patience=10,\n",
    "                verbose=11,\n",
    "                mode='min',\n",
    "                restore_best_weights=True\n",
    ")\n",
    "#These callbacks help prevent overfitting by stopping training early if the model stops improving and saving only the best model."
   ]
  },
  {
   "cell_type": "code",
   "execution_count": null,
   "id": "2790a69b",
   "metadata": {
    "id": "4nsHHsPCM584"
   },
   "outputs": [],
   "source": [
    "autoencoder.compile(metrics=['accuracy'],loss= 'mean_squared_error',optimizer='adam')\n",
    "#n summary, the model is configured for training with the Adam optimizer, mean squared error loss for reconstruction, \n",
    "# and accuracy as a metric (even though MSE would be more appropriate for this type of model)."
   ]
  },
  {
   "cell_type": "code",
   "execution_count": null,
   "id": "3f3f87f8",
   "metadata": {
    "id": "vAgLhgj7M585",
    "outputId": "60536f7e-b115-41b7-88d6-1ba27a00e53c"
   },
   "outputs": [
    {
     "name": "stdout",
     "output_type": "stream",
     "text": [
      "Epoch 1/50\n",
      "3537/3554 [============================>.] - ETA: 0s - loss: 0.0041 - accuracy: 0.0285\n",
      "Epoch 1: val_loss improved from inf to 0.00002, saving model to autoencoder_fraud.h5\n",
      "3554/3554 [==============================] - 11s 2ms/step - loss: 0.0041 - accuracy: 0.0286 - val_loss: 2.0743e-05 - val_accuracy: 0.0051\n",
      "Epoch 2/50\n",
      "3527/3554 [============================>.] - ETA: 0s - loss: 1.9675e-05 - accuracy: 0.0564\n",
      "Epoch 2: val_loss improved from 0.00002 to 0.00002, saving model to autoencoder_fraud.h5\n",
      "3554/3554 [==============================] - 7s 2ms/step - loss: 1.9673e-05 - accuracy: 0.0567 - val_loss: 2.0192e-05 - val_accuracy: 0.1279\n",
      "Epoch 3/50\n",
      "3536/3554 [============================>.] - ETA: 0s - loss: 1.9554e-05 - accuracy: 0.0646\n",
      "Epoch 3: val_loss improved from 0.00002 to 0.00002, saving model to autoencoder_fraud.h5\n",
      "3554/3554 [==============================] - 7s 2ms/step - loss: 1.9549e-05 - accuracy: 0.0646 - val_loss: 2.0070e-05 - val_accuracy: 0.2168\n",
      "Epoch 4/50\n",
      "3534/3554 [============================>.] - ETA: 0s - loss: 1.9579e-05 - accuracy: 0.0630\n",
      "Epoch 4: val_loss did not improve from 0.00002\n",
      "3554/3554 [==============================] - 7s 2ms/step - loss: 1.9568e-05 - accuracy: 0.0632 - val_loss: 2.0191e-05 - val_accuracy: 0.0371\n",
      "Epoch 5/50\n",
      "3532/3554 [============================>.] - ETA: 0s - loss: 1.9496e-05 - accuracy: 0.0613\n",
      "Epoch 5: val_loss improved from 0.00002 to 0.00002, saving model to autoencoder_fraud.h5\n",
      "3554/3554 [==============================] - 7s 2ms/step - loss: 1.9493e-05 - accuracy: 0.0617 - val_loss: 1.9861e-05 - val_accuracy: 0.1315\n",
      "Epoch 6/50\n",
      "3551/3554 [============================>.] - ETA: 0s - loss: 1.8874e-05 - accuracy: 0.0987\n",
      "Epoch 6: val_loss improved from 0.00002 to 0.00002, saving model to autoencoder_fraud.h5\n",
      "3554/3554 [==============================] - 7s 2ms/step - loss: 1.8875e-05 - accuracy: 0.0988 - val_loss: 1.8196e-05 - val_accuracy: 0.1964\n",
      "Epoch 7/50\n",
      "3550/3554 [============================>.] - ETA: 0s - loss: 1.8035e-05 - accuracy: 0.1360\n",
      "Epoch 7: val_loss did not improve from 0.00002\n",
      "3554/3554 [==============================] - 7s 2ms/step - loss: 1.8033e-05 - accuracy: 0.1360 - val_loss: 1.8224e-05 - val_accuracy: 0.2379\n",
      "Epoch 8/50\n",
      "3552/3554 [============================>.] - ETA: 0s - loss: 1.7681e-05 - accuracy: 0.1635\n",
      "Epoch 8: val_loss improved from 0.00002 to 0.00002, saving model to autoencoder_fraud.h5\n",
      "3554/3554 [==============================] - 7s 2ms/step - loss: 1.7680e-05 - accuracy: 0.1635 - val_loss: 1.7455e-05 - val_accuracy: 0.2539\n",
      "Epoch 9/50\n",
      "3545/3554 [============================>.] - ETA: 0s - loss: 1.7261e-05 - accuracy: 0.1960\n",
      "Epoch 9: val_loss improved from 0.00002 to 0.00002, saving model to autoencoder_fraud.h5\n",
      "3554/3554 [==============================] - 8s 2ms/step - loss: 1.7265e-05 - accuracy: 0.1961 - val_loss: 1.7438e-05 - val_accuracy: 0.2398\n",
      "Epoch 10/50\n",
      "3530/3554 [============================>.] - ETA: 0s - loss: 1.6650e-05 - accuracy: 0.2572\n",
      "Epoch 10: val_loss improved from 0.00002 to 0.00002, saving model to autoencoder_fraud.h5\n",
      "3554/3554 [==============================] - 7s 2ms/step - loss: 1.6655e-05 - accuracy: 0.2575 - val_loss: 1.6949e-05 - val_accuracy: 0.2779\n",
      "Epoch 11/50\n",
      "3533/3554 [============================>.] - ETA: 0s - loss: 1.6455e-05 - accuracy: 0.2820\n",
      "Epoch 11: val_loss improved from 0.00002 to 0.00002, saving model to autoencoder_fraud.h5\n",
      "Restoring model weights from the end of the best epoch: 1.\n",
      "3554/3554 [==============================] - 7s 2ms/step - loss: 1.6451e-05 - accuracy: 0.2820 - val_loss: 1.6418e-05 - val_accuracy: 0.3253\n",
      "Epoch 11: early stopping\n"
     ]
    }
   ],
   "source": [
    "history = autoencoder.fit(normal_train_data,normal_train_data,epochs = nb_epoch,\n",
    "                         batch_size = batch_size,shuffle = True,\n",
    "                         validation_data = (test_data,test_data),\n",
    "                         verbose=1, #Training progress will be displayed with one line per epoch, including the loss and any other metrics.\n",
    "                         callbacks = [cp,early_stop]).history\n",
    "\n",
    "#In summary, this code trains the autoencoder on normal data while monitoring the validation loss and applying early stopping to prevent overfitting. \n",
    "# The best model will be saved automatically during the process."
   ]
  },
  {
   "cell_type": "code",
   "execution_count": 18,
   "id": "70d40210",
   "metadata": {
    "id": "fMmf_R3LM585",
    "outputId": "26ce5531-800c-4a7a-d494-37cc21127827"
   },
   "outputs": [
    {
     "data": {
      "image/png": "[encoded data removed]",
      "text/plain": [
       "<Figure size 432x288 with 1 Axes>"
      ]
     },
     "metadata": {
      "needs_background": "light"
     },
     "output_type": "display_data"
    }
   ],
   "source": [
    "plt.plot(history['loss'],linewidth = 2,label = 'Train')\n",
    "plt.plot(history['val_loss'],linewidth = 2,label = 'Test')\n",
    "plt.legend(loc='upper right')\n",
    "plt.title('Model Loss')\n",
    "plt.ylabel('Loss')\n",
    "plt.xlabel('Epoch')\n",
    "\n",
    "#plt.ylim(ymin=0.70,ymax=1)\n",
    "\n",
    "plt.show()"
   ]
  },
  {
   "cell_type": "code",
   "execution_count": null,
   "id": "43ae1f61",
   "metadata": {
    "id": "HhdO5gEgM586",
    "outputId": "a43f0364-7225-4e72-b205-bcdb0510ae96"
   },
   "outputs": [
    {
     "name": "stdout",
     "output_type": "stream",
     "text": [
      "1781/1781 [==============================] - 2s 1ms/step\n"
     ]
    }
   ],
   "source": [
    "test_x_predictions = autoencoder.predict(test_data) #The model generates predictions (reconstructed data) for the test_data by passing it through the trained autoencoder. This produces the reconstructed version of the input.\n",
    "mse = np.mean(np.power(test_data - test_x_predictions, 2),axis = 1) #The reconstruction error is calculated by comparing the original test_data with the reconstructed test_x_predictions\n",
    "error_df = pd.DataFrame({'Reconstruction_error':mse,\n",
    "                         'True_class':test_labels})\n",
    "#Reconstruction_error: The MSE for each test sample, representing how well the autoencoder was able to reconstruct the data.\n",
    "#True_class: The actual class label (test_labels) for each test sample, indicating whether the sample is normal or fraud\n",
    "\n",
    "#This DataFrame allows you to analyze the reconstruction error for each sample and compare it with its true label. \n",
    "# It's typically used in anomaly detection, where high reconstruction errors might indicate outliers (e.g., fraud cases in the context of fraud detection)."
   ]
  },
  {
   "cell_type": "code",
   "execution_count": null,
   "id": "2dab4249",
   "metadata": {
    "id": "UDpYmZDsM587",
    "outputId": "9cf958b0-2ec5-4bf8-bd15-7ac5d538d08b"
   },
   "outputs": [
    {
     "data": {
      "image/png": "[encoded data removed]",
      "text/plain": [
       "<Figure size 432x288 with 1 Axes>"
      ]
     },
     "metadata": {
      "needs_background": "light"
     },
     "output_type": "display_data"
    }
   ],
   "source": [
    "threshold_fixed = 50 #A fixed threshold of 50 is set to differentiate between normal and anomalous (fraud) samples based on their reconstruction error. \n",
    "                      #Samples with errors greater than this threshold are considered anomalous.\n",
    "groups = error_df.groupby('True_class')\n",
    "\n",
    "#The error_df DataFrame is grouped by the True_class column (normal or fraud) to separate the reconstruction errors for each class. The groups will have:\n",
    "#name == 0: Normal data points.\n",
    "#name == 1: Fraud data points.\n",
    "\n",
    "fig,ax = plt.subplots()\n",
    "\n",
    "for name,group in groups:\n",
    "        ax.plot(group.index,group.Reconstruction_error,marker='o',ms = 3.5,linestyle='',\n",
    "                label = \"Fraud\" if  name==1 else \"Normal\")\n",
    "        \n",
    "\n",
    "#A loop iterates over the grouped data (normal and fraud):\n",
    "#ax.plot(group.index, group.Reconstruction_error, ...) plots the reconstruction errors for each data point within a group.\n",
    "#marker='o' places circular markers for each data point.\n",
    "#ms = 3.5 specifies the size of the markers.\n",
    "#he label is set to \"Fraud\" if the group is fraud (name == 1), or \"Normal\" if the group is normal (name == 0).   \n",
    "\n",
    "ax.hlines(threshold_fixed,ax.get_xlim()[0],ax.get_xlim()[1],colors=\"r\",zorder=100,label=\"Threshold\")\n",
    "#A horizontal line is drawn at the y-value of 50 (threshold_fixed), representing the reconstruction error threshold.\n",
    "#ax.get_xlim()[0] and ax.get_xlim()[1] automatically set the x-axis limits based on the data points' indices.\n",
    "ax.legend()\n",
    "plt.title(\"Reconstructions error for normal and fraud data\")\n",
    "plt.ylabel(\"Reconstruction error\")\n",
    "plt.xlabel(\"Data point index\")\n",
    "plt.show()"
   ]
  },
  {
   "cell_type": "code",
   "execution_count": null,
   "id": "7fac49f2",
   "metadata": {
    "id": "Ie77dbviM587",
    "outputId": "cb063697-7441-45fd-9b94-9d3b3ae5c8bd"
   },
   "outputs": [
    {
     "data": {
      "image/png": "[encoded data removed]",
      "text/plain": [
       "<Figure size 288x288 with 2 Axes>"
      ]
     },
     "metadata": {
      "needs_background": "light"
     },
     "output_type": "display_data"
    },
    {
     "name": "stdout",
     "output_type": "stream",
     "text": [
      "Accuracy : 0.9981917769741231\n",
      "Recall : 0.0\n",
      "Precision : 0.0\n"
     ]
    },
    {
     "name": "stderr",
     "output_type": "stream",
     "text": [
      "C:\\ProgramData\\Anaconda3\\lib\\site-packages\\sklearn\\metrics\\_classification.py:1221: UndefinedMetricWarning: Precision is ill-defined and being set to 0.0 due to no predicted samples. Use `zero_division` parameter to control this behavior.\n",
      "  _warn_prf(average, modifier, msg_start, len(result))\n"
     ]
    }
   ],
   "source": [
    "#A fixed threshold of 52 is used to classify data points as fraud or normal based on their reconstruction error.\n",
    "threshold_fixed = 52\n",
    "\n",
    "#A list comprehension is used to create the list pred_y, \n",
    "# which stores the predicted class (fraud or normal) for each test sample, based on the calculated reconstruction error.\n",
    "pred_y = [1 if e > threshold_fixed else 0\n",
    "          for e in\n",
    "        error_df.Reconstruction_error.values]\n",
    "\n",
    "#The predicted values (pred_y) are added as a new column pred to the error_df DataFrame.\n",
    "error_df['pred'] = pred_y\n",
    "\n",
    "#The confusion matrix is computed using confusion_matrix() from sklearn.metrics, \n",
    "# comparing the true class (True_class) and the predicted class (pred_y).\n",
    "conf_matrix = confusion_matrix(error_df.True_class,pred_y)\n",
    "\n",
    "#The confusion matrix is displayed as a heatmap using Seaborn (sns.heatmap).\n",
    "#The xticklabels and yticklabels are set to LABELS, which should be defined somewhere in your code (e.g., LABELS = ['Normal', 'Fraud']).\n",
    "The matrix values are annotated (annot=True) and formatted as integers (fmt=\"d\").\n",
    "#plt.title(), plt.ylabel(), and plt.xlabel() add labels to the plot.\n",
    "plt.figure(figsize = (4,4))\n",
    "sns.heatmap(conf_matrix,xticklabels = LABELS,yticklabels = LABELS,annot = True,fmt=\"d\")\n",
    "plt.title(\"Confusion matrix\")\n",
    "plt.ylabel(\"True class\")\n",
    "plt.xlabel(\"Predicted class\")\n",
    "plt.show()\n",
    "\n",
    "#Print Accuracy,Precision and Recall\n",
    "print(\"Accuracy :\",accuracy_score(error_df['True_class'],error_df['pred']))\n",
    "print(\"Recall :\",recall_score(error_df['True_class'],error_df['pred']))\n",
    "print(\"Precision :\",precision_score(error_df['True_class'],error_df['pred']))"
   ]
  },
  {
   "cell_type": "code",
   "execution_count": null,
   "id": "8e153e11",
   "metadata": {
    "id": "zQPEZmuRM587"
   },
   "outputs": [],
   "source": []
  }
 ],
 "metadata": {
  "colab": {
   "provenance": []
  },
  "kernelspec": {
   "display_name": "Python 3",
   "language": "python",
   "name": "python3"
  },
  "language_info": {
   "codemirror_mode": {
    "name": "ipython",
    "version": 3
   },
   "file_extension": ".py",
   "mimetype": "text/x-python",
   "name": "python",
   "nbconvert_exporter": "python",
   "pygments_lexer": "ipython3",
   "version": "3.8.5"
  }
 },
 "nbformat": 4,
 "nbformat_minor": 5
}
