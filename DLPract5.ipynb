{
 "cells": [
  {
   "cell_type": "code",
   "execution_count": 2,
   "id": "a00e45b2",
   "metadata": {
    "colab": {
     "base_uri": "https://localhost:8080/",
     "height": 36
    },
    "id": "pHUq1J4qKFUB",
    "outputId": "7be91f90-b4ed-49e1-84d5-5c2b14ba497e"
   },
   "outputs": [
    {
     "data": {
      "text/plain": [
       "'Implement the Continuous Bag of Words (CBOW) Model. Stages can be:\\na. Data preparation\\nb. Generate training data\\nc. Train model\\nd. Output'"
      ]
     },
     "execution_count": 2,
     "metadata": {},
     "output_type": "execute_result"
    }
   ],
   "source": [
    "'''Implement the Continuous Bag of Words (CBOW) Model. Stages can be:\n",
    "a. Data preparation\n",
    "b. Generate training data\n",
    "c. Train model\n",
    "d. Output'''"
   ]
  },
  {
   "cell_type": "code",
   "execution_count": 3,
   "id": "3cb668f2",
   "metadata": {
    "id": "6deebe40"
   },
   "outputs": [],
   "source": [
    "import matplotlib.pyplot as plt\n",
    "import seaborn as sns\n",
    "import matplotlib as mpl\n",
    "import matplotlib.pylab as pylab\n",
    "import numpy as np\n",
    "%matplotlib inline"
   ]
  },
  {
   "cell_type": "code",
   "execution_count": 4,
   "id": "7c6e251c",
   "metadata": {
    "id": "7501f873"
   },
   "outputs": [],
   "source": [
    "#Data Prepration\n",
    "import re"
   ]
  },
  {
   "cell_type": "code",
   "execution_count": 5,
   "id": "59f5168e",
   "metadata": {
    "id": "c2cf4399"
   },
   "outputs": [],
   "source": [
    "sentences = \"\"\"We are about to study the idea of a computational process.\n",
    "Computational processes are abstract beings that inhabit computers.\n",
    "As they evolve, processes manipulate other abstract things called data.\n",
    "The evolution of a process is directed by a pattern of rules\n",
    "called a program. People create programs to direct processes. In effect,\n",
    "we conjure the spirits of the computer with our spells.\"\"\""
   ]
  },
  {
   "cell_type": "code",
   "execution_count": 6,
   "id": "48989c73",
   "metadata": {
    "id": "f68d3e9c"
   },
   "outputs": [],
   "source": [
    "# Clean Data\n",
    "\n",
    "# remove special characters\n",
    "sentences = re.sub('[^A-Za-z0-9]+', ' ', sentences)\n",
    "\n",
    "# remove 1 letter words\n",
    "sentences = re.sub(r'(?:^| )\\w(?:$| )', ' ', sentences).strip()\n",
    "\n",
    "# lower all characters\n",
    "sentences = sentences.lower()"
   ]
  },
  {
   "cell_type": "code",
   "execution_count": 7,
   "id": "ff5aa584",
   "metadata": {
    "id": "45a8cb65"
   },
   "outputs": [],
   "source": [
    "#Vocabulary\n",
    "\n",
    "words = sentences.split()\n",
    "vocab = set(words)"
   ]
  },
  {
   "cell_type": "code",
   "execution_count": null,
   "id": "48a4cff9",
   "metadata": {
    "id": "f37572dc"
   },
   "outputs": [],
   "source": [
    "vocab_size = len(vocab)\n",
    "embed_dim = 10\n",
    "context_size = 2\n",
    "\n",
    "#vocab_size: This is the size of your vocabulary, i.e., the total number of unique tokens (words or characters) in your dataset. You've set it to len(vocab), where vocab is likely a list or set of unique words.\n",
    "\n",
    "#embed_dim: This is the dimensionality of the embedding space. You've set it to 10, meaning each word in your vocabulary will be represented as a 10-dimensional vector. This is a hyperparameter that can be adjusted depending on the complexity of your model and dataset.\n",
    "\n",
    "#context_size: This refers to the size of the context window when training the model. You've set it to 2, which means each word will be predicted based on the surrounding 2 words (1 word to the left and 1 word to the right, in a typical setting)."
   ]
  },
  {
   "cell_type": "code",
   "execution_count": null,
   "id": "6c017635",
   "metadata": {
    "id": "ef6d5172"
   },
   "outputs": [],
   "source": [
    "#Implementation\n",
    "\n",
    "word_to_ix = {word: i for i, word in enumerate(vocab)}\n",
    "#word_to_ix: This dictionary maps each word in your vocabulary (vocab) to a unique integer index. \n",
    "# The enumerate(vocab) function gives an index (i) for each word in the vocabulary, and you're using that index as the key and the word as the value.\n",
    "\n",
    "ix_to_word = {i: word for i, word in enumerate(vocab)}\n",
    "#ix_to_word: This dictionary is the inverse of word_to_ix. It maps each index back to the corresponding word.\n",
    "# This is useful when you need to convert a predicted index back into a word."
   ]
  },
  {
   "cell_type": "code",
   "execution_count": null,
   "id": "f471ea4b",
   "metadata": {
    "colab": {
     "base_uri": "https://localhost:8080/"
    },
    "id": "25d063d0",
    "outputId": "1d7f905c-238a-4885-d807-ad3f7820fc23"
   },
   "outputs": [
    {
     "name": "stdout",
     "output_type": "stream",
     "text": [
      "[(['we', 'are', 'to', 'study'], 'about'), (['are', 'about', 'study', 'the'], 'to'), (['about', 'to', 'the', 'idea'], 'study'), (['to', 'study', 'idea', 'of'], 'the'), (['study', 'the', 'of', 'computational'], 'idea')]\n"
     ]
    }
   ],
   "source": [
    "# Data bags\n",
    "\n",
    "# data - [(context), target]\n",
    "\n",
    "data = []\n",
    "for i in range(2, len(words) - 2):\n",
    "    context = [words[i - 2], words[i - 1], words[i + 1], words[i + 2]]\n",
    "    target = words[i]\n",
    "    data.append((context, target))\n",
    "print(data[:5])\n",
    "\n",
    "#Data Structure: You are building a list of tuples, where each tuple consists of:\n",
    "\n",
    "#context: A list of words surrounding a target word (2 words before and 2 words after).\n",
    "#target: The current word being predicted by the context.\n",
    "#Loop: The loop iterates through the words list (from index 2 to len(words) - 2), ensuring that the target word has 2 words before and 2 words after it (i.e., a context size of 2).\n",
    "\n",
    "#Appending Data: For each word i in the range, the context is the 2 preceding and 2 succeeding words, and the target is the word at position i."
   ]
  },
  {
   "cell_type": "code",
   "execution_count": null,
   "id": "c9b4cc35",
   "metadata": {
    "id": "0601eeea"
   },
   "outputs": [],
   "source": [
    "#Embedding\n",
    "embeddings =  np.random.random_sample((vocab_size, embed_dim))\n",
    "\n",
    "#Initializes a random embedding matrix of shape (vocab_size, embed_dim), where each word in your vocabulary is represented by a random vector of length embed_dim (in this case, 10).\n",
    "\n",
    "#This matrix will be refined during training, where the embeddings (vectors) for words are adjusted to capture semantic relationships based on the context and target pairs you provide."
   ]
  },
  {
   "cell_type": "code",
   "execution_count": null,
   "id": "963acf5e",
   "metadata": {
    "id": "63554686"
   },
   "outputs": [],
   "source": [
    "# Linear Model\n",
    "def linear(m, theta):\n",
    "    w = theta\n",
    "    return m.dot(w)\n",
    "\n",
    "#n short, the linear function calculates the dot product between a matrix m (context word embeddings) \n",
    "# and a vector theta (target word embedding). It essentially measures the similarity between the context and target word embeddings."
   ]
  },
  {
   "cell_type": "code",
   "execution_count": null,
   "id": "28b0471b",
   "metadata": {
    "id": "6dbefcbc"
   },
   "outputs": [],
   "source": [
    "# Log softmax + NLLloss = Cross Entropy\n",
    "\n",
    "def log_softmax(x):\n",
    "    e_x = np.exp(x - np.max(x))\n",
    "    return np.log(e_x / e_x.sum())\n",
    "\n",
    "#The log_softmax function computes the log of the softmax values,\n",
    "#  which is useful for tasks like classification, and it helps in calculating cross-entropy loss efficiently."
   ]
  },
  {
   "cell_type": "code",
   "execution_count": null,
   "id": "df0a2545",
   "metadata": {
    "id": "a7796bee"
   },
   "outputs": [],
   "source": [
    "def NLLLoss(logs, targets):\n",
    "    out = logs[range(len(targets)), targets]\n",
    "    return -out.sum()/len(out)\n",
    "\n",
    "\"\"\"logs: This is the input to the loss function, typically the output of the log_softmax function. It is a matrix where each row corresponds to the log-probabilities of all classes for a given example.\n",
    "\n",
    "targets: This is an array of the true class labels (indices) for each example. Each value in targets is an index corresponding to the correct class for that particular sample.\n",
    "\n",
    "logs[range(len(targets)), targets]: This selects the log-probabilities for the correct classes. range(len(targets)) provides the row indices (for each sample), and targets provides the column indices (for the correct class).\n",
    "\n",
    "out.sum(): This computes the sum of the log-probabilities for the correct class for all samples.\n",
    "\n",
    "-out.sum() / len(out): The negative sum of the log-probabilities is averaged over the number of samples, which gives the mean Negative Log-Likelihood Loss. This is the loss value that is minimized during training.\"\"\""
   ]
  },
  {
   "cell_type": "code",
   "execution_count": null,
   "id": "5e4bc761",
   "metadata": {
    "id": "640942e6"
   },
   "outputs": [],
   "source": [
    "def log_softmax_crossentropy_with_logits(logits,target):\n",
    "\n",
    "    out = np.zeros_like(logits)\n",
    "    out[np.arange(len(logits)),target] = 1\n",
    "\n",
    "    softmax = np.exp(logits) / np.exp(logits).sum(axis=-1,keepdims=True)\n",
    "\n",
    "    return (- out + softmax) / logits.shape[0]\n",
    "\n",
    "\n",
    "\"\"\"logits: These are the raw model outputs (before applying softmax), which represent the unnormalized scores for each class.\n",
    "\n",
    "target: This is the array of true class labels (indices) for each sample. Each value corresponds to the correct class for that sample.\n",
    "\n",
    "out = np.zeros_like(logits): Creates a zero matrix of the same shape as logits. This will eventually be used to represent the one-hot encoding of the correct class.\n",
    "\n",
    "out[np.arange(len(logits)), target] = 1: This sets the appropriate element in the out matrix to 1 for each sample's correct class (this is the one-hot encoding of the correct labels).\n",
    "\n",
    "softmax = np.exp(logits) / np.exp(logits).sum(axis=-1, keepdims=True): This computes the softmax function. It exponentiates the logits, then normalizes the values across each sample to get the class probabilities.\n",
    "\n",
    "return (- out + softmax) / logits.shape[0]:\n",
    "\n",
    "- out + softmax: This computes the element-wise difference between the softmax output and the one-hot encoded target labels (which is effectively the cross-entropy loss).\n",
    "/ logits.shape[0]: This averages the loss over all samples\"\"\""
   ]
  },
  {
   "cell_type": "code",
   "execution_count": null,
   "id": "e3a82afa",
   "metadata": {
    "id": "943c3a28"
   },
   "outputs": [],
   "source": [
    "#Forward function\n",
    "\n",
    "def forward(context_idxs, theta):\n",
    "    m = embeddings[context_idxs].reshape(1, -1)\n",
    "    n = linear(m, theta)\n",
    "    o = log_softmax(n)\n",
    "\n",
    "    return m, n, o\n",
    "\n",
    "\"\"\"context_idxs: This is a list or array of indices corresponding to the context words for a given target word. Each index refers to a word in the vocabulary.\n",
    "\n",
    "theta: This is the target word's embedding (the weight vector you're trying to learn for the target word).\n",
    "\n",
    "m = embeddings[context_idxs].reshape(1, -1):\n",
    "\n",
    "context_idxs provides the indices of the context words.\n",
    "embeddings[context_idxs] retrieves the corresponding embedding vectors for the context words.\n",
    ".reshape(1, -1) reshapes the context embeddings into a single row (flattening the context vectors into one vector). This is necessary for matrix multiplication in the next step.\n",
    "n = linear(m, theta):\n",
    "\n",
    "This applies a linear transformation (typically a dot product) between the reshaped context embeddings m and the target word's embedding theta. The result n is a raw score (logits) that represents the similarity between the context and the target word.\n",
    "o = log_softmax(n): This applies the log-softmax function to the raw output n, converting it into log-probabilities.\n",
    "\n",
    "return m, n, o: The function returns:\n",
    "\n",
    "m: The reshaped context embeddings.\n",
    "n: The raw scores (logits).\n",
    "o: The log-probabilities after applying the softmax.\"\"\""
   ]
  },
  {
   "cell_type": "code",
   "execution_count": 17,
   "id": "23f00757",
   "metadata": {
    "id": "b5085ed8"
   },
   "outputs": [],
   "source": [
    "def backward(preds, theta, target_idxs):\n",
    "    m, n, o = preds\n",
    "\n",
    "    dlog = log_softmax_crossentropy_with_logits(n, target_idxs)\n",
    "    dw = m.T.dot(dlog)\n",
    "\n",
    "    return dw"
   ]
  },
  {
   "cell_type": "code",
   "execution_count": 18,
   "id": "e636c86e",
   "metadata": {
    "id": "797b80ce"
   },
   "outputs": [],
   "source": [
    "# Optimize function\n",
    "\n",
    "def optimize(theta, grad, lr=0.03):\n",
    "    theta -= grad * lr\n",
    "    return theta"
   ]
  },
  {
   "cell_type": "code",
   "execution_count": 19,
   "id": "cc556fba",
   "metadata": {
    "id": "07ab0dc7"
   },
   "outputs": [],
   "source": [
    "# Training\n",
    "\n",
    "#Genrate training data\n",
    "\n",
    "theta = np.random.uniform(-1, 1, (2 * context_size * embed_dim, vocab_size))"
   ]
  },
  {
   "cell_type": "code",
   "execution_count": 20,
   "id": "a4a52467",
   "metadata": {
    "id": "a4e6971e"
   },
   "outputs": [],
   "source": [
    "epoch_losses = {}\n",
    "\n",
    "for epoch in range(80):\n",
    "\n",
    "    losses =  []\n",
    "\n",
    "    for context, target in data:\n",
    "        context_idxs = np.array([word_to_ix[w] for w in context])\n",
    "        preds = forward(context_idxs, theta)\n",
    "\n",
    "        target_idxs = np.array([word_to_ix[target]])\n",
    "        loss = NLLLoss(preds[-1], target_idxs)\n",
    "\n",
    "        losses.append(loss)\n",
    "\n",
    "        grad = backward(preds, theta, target_idxs)\n",
    "        theta = optimize(theta, grad, lr=0.03)\n",
    "\n",
    "\n",
    "    epoch_losses[epoch] = losses"
   ]
  },
  {
   "cell_type": "code",
   "execution_count": 21,
   "id": "f4badda9",
   "metadata": {
    "colab": {
     "base_uri": "https://localhost:8080/",
     "height": 518
    },
    "id": "0d0ba2b3",
    "outputId": "2452cb14-4e5b-40d9-cec4-3a311c718fcb"
   },
   "outputs": [
    {
     "data": {
      "text/plain": [
       "Text(0, 0.5, 'Losses')"
      ]
     },
     "execution_count": 21,
     "metadata": {},
     "output_type": "execute_result"
    },
    {
     "data": {
      "image/png": "[encoded data removed]",
      "text/plain": [
       "<Figure size 432x288 with 1 Axes>"
      ]
     },
     "metadata": {
      "needs_background": "light"
     },
     "output_type": "display_data"
    }
   ],
   "source": [
    "# Analyze\n",
    "# Plot loss/epoch\n",
    "\n",
    "ix = np.arange(0,80)\n",
    "\n",
    "fig = plt.figure()\n",
    "fig.suptitle('Epoch/Losses', fontsize=20)\n",
    "plt.plot(ix,[epoch_losses[i][0] for i in ix])\n",
    "plt.xlabel('Epochs', fontsize=12)\n",
    "plt.ylabel('Losses', fontsize=12)"
   ]
  },
  {
   "cell_type": "code",
   "execution_count": 22,
   "id": "f2af50e7",
   "metadata": {
    "id": "9b63bfb4"
   },
   "outputs": [],
   "source": [
    "# Predict function\n",
    "\n",
    "def predict(words):\n",
    "    context_idxs = np.array([word_to_ix[w] for w in words])\n",
    "    preds = forward(context_idxs, theta)\n",
    "    word = ix_to_word[np.argmax(preds[-1])]\n",
    "\n",
    "    return word"
   ]
  },
  {
   "cell_type": "code",
   "execution_count": 23,
   "id": "74861400",
   "metadata": {
    "colab": {
     "base_uri": "https://localhost:8080/",
     "height": 36
    },
    "id": "8237536c",
    "outputId": "a0a36b9a-a4c2-4ace-e73e-79ba81563d01"
   },
   "outputs": [
    {
     "data": {
      "text/plain": [
       "'about'"
      ]
     },
     "execution_count": 23,
     "metadata": {},
     "output_type": "execute_result"
    }
   ],
   "source": [
    "# (['we', 'are', 'to', 'study'], 'about')\n",
    "predict(['we', 'are', 'to', 'study'])"
   ]
  },
  {
   "cell_type": "code",
   "execution_count": 24,
   "id": "0c929e87",
   "metadata": {
    "id": "17af78a5"
   },
   "outputs": [],
   "source": [
    "# Accuracy\n",
    "\n",
    "def accuracy():\n",
    "    wrong = 0\n",
    "\n",
    "    for context, target in data:\n",
    "        if(predict(context) != target):\n",
    "            wrong += 1\n",
    "\n",
    "    return (1 - (wrong / len(data)))"
   ]
  },
  {
   "cell_type": "code",
   "execution_count": 25,
   "id": "4ef3ee34",
   "metadata": {
    "colab": {
     "base_uri": "https://localhost:8080/"
    },
    "id": "22ed7c5d",
    "outputId": "b3c2eddf-2ddc-45df-bcee-bac60303d4ad"
   },
   "outputs": [
    {
     "data": {
      "text/plain": [
       "1.0"
      ]
     },
     "execution_count": 25,
     "metadata": {},
     "output_type": "execute_result"
    }
   ],
   "source": [
    "accuracy()"
   ]
  },
  {
   "cell_type": "code",
   "execution_count": 26,
   "id": "86c2bb83",
   "metadata": {
    "colab": {
     "base_uri": "https://localhost:8080/",
     "height": 36
    },
    "id": "f213472d",
    "outputId": "b6129190-c7ba-4a84-e334-2f5a78460e2e"
   },
   "outputs": [
    {
     "data": {
      "text/plain": [
       "'abstract'"
      ]
     },
     "execution_count": 26,
     "metadata": {},
     "output_type": "execute_result"
    }
   ],
   "source": [
    "predict(['processes', 'manipulate', 'things', 'study'])"
   ]
  },
  {
   "cell_type": "code",
   "execution_count": null,
   "id": "4112b830",
   "metadata": {
    "id": "45ec1ca1"
   },
   "outputs": [],
   "source": []
  }
 ],
 "metadata": {
  "colab": {
   "provenance": []
  },
  "kernelspec": {
   "display_name": "Python 3",
   "language": "python",
   "name": "python3"
  },
  "language_info": {
   "codemirror_mode": {
    "name": "ipython",
    "version": 3
   },
   "file_extension": ".py",
   "mimetype": "text/x-python",
   "name": "python",
   "nbconvert_exporter": "python",
   "pygments_lexer": "ipython3",
   "version": "3.8.5"
  }
 },
 "nbformat": 4,
 "nbformat_minor": 5
}
